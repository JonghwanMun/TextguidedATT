{
 "cells": [
  {
   "cell_type": "code",
   "execution_count": 1,
   "metadata": {
    "collapsed": false
   },
   "outputs": [
    {
     "name": "stdout",
     "output_type": "stream",
     "text": [
      "loading annotations into memory...\n",
      "0:00:00.727483\n",
      "creating index...\n",
      "index created!\n"
     ]
    }
   ],
   "source": [
    "from pycocotools.coco import COCO\n",
    "from pycocoevalcap.eval import COCOEvalCap\n",
    "import json\n",
    "from json import encoder\n",
    "encoder.FLOAT_REPR = lambda o: format(o, '.3f')\n",
    "import sys\n",
    "\n",
    "input_json = '095_test_model66.json'\n",
    "\n",
    "annFile = 'annotations/captions_val2014.json'\n",
    "coco = COCO(annFile)\n",
    "valids = coco.getImgIds()"
   ]
  },
  {
   "cell_type": "code",
   "execution_count": 2,
   "metadata": {
    "collapsed": false
   },
   "outputs": [
    {
     "data": {
      "text/plain": [
       "{u'capProb': u'a(-0.21) man(-0.41) and(-2.44) a(-0.52) woman(-1.41) standing(-2.05) next(-1.49) to(-0.16) a(-0.28) bike(-2.07)',\n",
       " u'caption': u'a man and a woman standing next to a bike',\n",
       " u'file_name': u'val2014/COCO_val2014_000000391895.jpg',\n",
       " u'image_id': 391895,\n",
       " u'loss': u'2.19'}"
      ]
     },
     "execution_count": 2,
     "metadata": {},
     "output_type": "execute_result"
    }
   ],
   "source": [
    "checkpoint = json.load(open(input_json, 'r'))\n",
    "preds = checkpoint['val_predictions']\n",
    "preds[0]"
   ]
  },
  {
   "cell_type": "code",
   "execution_count": 3,
   "metadata": {
    "collapsed": false,
    "scrolled": false
   },
   "outputs": [
    {
     "name": "stdout",
     "output_type": "stream",
     "text": [
      "Loading and preparing results...     \n",
      "DONE (t=0.05s)\n",
      "creating index...\n",
      "index created!\n",
      "tokenization...\n",
      "setting up scorers...\n",
      "computing Bleu score...\n",
      "target idx : 56\n",
      "\n",
      "['a man with a red helmet on a small moped on a dirt road', 'man riding a motor bike on a dirt road on the countryside', 'a man riding on the back of a motorcycle', 'a dirt path with a young person on a motor bike rests to the foreground of a verdant area with a bridge and a background of cloud-wreathed mountains', 'a man in a red shirt and a red hat is on a motorcycle on a hill side']\n",
      "a man and a woman standing next to a bike\n",
      "reflen : 9, testlen : 10\n",
      "[7, 2, 0, 0]\n",
      "[10, 9, 8, 7]\n",
      "\n",
      "bleu : 0.700\n",
      "bleu : 0.394\n",
      "bleu : 0.000\n",
      "bleu : 0.000\n",
      "\n",
      "\n",
      "{'reflen': 1269, 'guess': [1274, 1137, 1000, 863], 'testlen': 1274, 'correct': [873, 407, 192, 93]}\n",
      "ratio: 1.00394011032\n",
      "0 394240 0.777777777691 394240 True\n",
      "1 182784 0.89999999982 182784 True\n",
      "2 415746 0.441248451182 415746 True\n",
      "3 71171 0.89999999982 71171 True\n",
      "4 76292 0.36363636357 76292 True\n",
      "5 147980 0.444444444395 147980 True\n",
      "6 503311 0.624999999844 503311 True\n",
      "7 467477 0.79999999984 467477 True\n",
      "8 444444 0.4999999999 444444 True\n",
      "9 375840 0.59655954441 375840 True\n",
      "10 353830 0.4999999999 353830 True\n",
      "11 95786 0.444444444395 95786 True\n",
      "12 224757 0.69999999986 224757 True\n",
      "13 301102 0.39999999992 301102 True\n",
      "14 559665 0.874999999781 559665 True\n",
      "15 371250 0.222222222173 371250 True\n",
      "16 74369 0.79999999984 74369 True\n",
      "17 195645 0.777777777605 195645 True\n",
      "18 384012 0.777777777605 384012 True\n",
      "19 235597 0.624999999844 235597 True\n",
      "20 579664 0.777777777605 579664 True\n",
      "21 426578 0.661872676773 426578 True\n",
      "22 217183 0.499999999875 217183 True\n",
      "23 570465 0.772184789568 570465 True\n",
      "24 129637 0.59999999994 129637 True\n",
      "25 299116 0.888888888691 299116 True\n",
      "26 336493 0.711766580212 336493 True\n",
      "27 459374 0.79999999984 459374 True\n",
      "28 244339 0.59999999994 244339 True\n",
      "29 386164 0.333333333259 386164 True\n",
      "30 321214 0.555555555432 321214 True\n",
      "31 191096 0.888888888691 191096 True\n",
      "32 1146 0.874999999781 1146 True\n",
      "33 550529 0.499999999938 550529 True\n",
      "34 516750 0.39999999996 516750 True\n",
      "35 261779 0.497132953675 261779 True\n",
      "36 473237 0.874999999781 473237 True\n",
      "37 305821 0.664073248085 305821 True\n",
      "38 24223 0.69999999993 24223 True\n",
      "39 216228 0.555555555494 216228 True\n",
      "40 165029 0.555555555494 165029 True\n",
      "41 165547 0.749999999813 165547 True\n",
      "42 455859 0.661872676773 455859 True\n",
      "43 171190 0.818181818033 171190 True\n",
      "44 507065 0.497132953675 507065 True\n",
      "45 288955 0.749999999813 288955 True\n",
      "46 284350 0.888888888691 284350 True\n",
      "47 2240 0.79999999992 2240 True\n",
      "48 510657 0.882496902364 510657 True\n",
      "49 64710 0.454545454463 64710 True\n",
      "50 209868 0.555555555432 209868 True\n",
      "51 208589 0.49999999995 208589 True\n",
      "52 60623 0.444444444395 60623 True\n",
      "53 348881 0.79999999984 348881 True\n",
      "54 43635 0.777777777605 43635 True\n",
      "55 384213 0.661872676773 384213 True\n",
      "56 391895 0.69999999993 391895 True\n",
      "57 28377 0.79999999984 28377 True\n",
      "58 472795 0.69999999993 472795 True\n",
      "59 516316 0.583333333285 516316 True\n",
      "60 503005 0.833333333264 503005 True\n",
      "61 180447 0.21470779796 180447 True\n",
      "62 550627 0.666666666519 550627 True\n",
      "63 354533 0.59999999988 354533 True\n",
      "64 138477 0.778800782877 138477 True\n",
      "65 239347 0.695986135145 239347 True\n",
      "66 535292 0.888888888691 535292 True\n",
      "67 309120 0.29999999994 309120 True\n",
      "68 190081 0.636363636306 190081 True\n",
      "69 290570 0.79999999984 290570 True\n",
      "70 184791 0.888888888691 184791 True\n",
      "71 58636 0.666666666519 58636 True\n",
      "72 69392 0.9999999998 69392 True\n",
      "73 472854 0.555555555494 472854 True\n",
      "74 451872 0.444444444395 451872 True\n",
      "75 483108 0.79999999984 483108 True\n",
      "76 207151 0.79999999984 207151 True\n",
      "77 198448 0.59655954441 198448 True\n",
      "78 484145 0.72727272714 484145 True\n",
      "79 157184 0.4999999999 157184 True\n",
      "80 299319 0.555555555494 299319 True\n",
      "81 69946 0.874999999891 69946 True\n",
      "82 366630 0.551560563977 366630 True\n",
      "83 26942 0.661872676773 26942 True\n",
      "84 458052 0.777777777605 458052 True\n",
      "85 509819 0.88888888879 509819 True\n",
      "86 169802 0.555555555432 169802 True\n",
      "87 85329 0.374999999906 85329 True\n",
      "88 197461 0.661872676773 197461 True\n",
      "89 109005 0.533824935159 109005 True\n",
      "90 154971 0.79999999984 154971 True\n",
      "91 17756 0.551560563977 17756 True\n",
      "92 462565 0.624999999844 462565 True\n",
      "93 356708 0.749999999938 356708 True\n",
      "94 66412 0.4999999999 66412 True\n",
      "95 448365 0.624999999844 448365 True\n",
      "96 281455 0.777777777691 281455 True\n",
      "97 353136 0.499999999875 353136 True\n",
      "98 430961 0.894839316616 430961 True\n",
      "99 78707 0.69999999993 78707 True\n",
      "100 418281 0.769230769112 418281 True\n",
      "101 316795 0.69999999993 316795 True\n",
      "102 199551 0.888888888691 199551 True\n",
      "103 362368 0.272727272678 362368 True\n",
      "104 34180 0.59999999988 34180 True\n",
      "105 272262 0.909090908926 272262 True\n",
      "106 336777 0.666666666519 336777 True\n",
      "107 527248 0.777777777605 527248 True\n",
      "108 341393 0.72727272714 341393 True\n",
      "109 410002 0.661872676773 410002 True\n",
      "110 75162 0.454545454504 75162 True\n",
      "111 28655 0.727272727207 28655 True\n",
      "112 295837 0.583333333236 295837 True\n",
      "113 223648 0.444444444346 223648 True\n",
      "114 436141 0.99999999975 436141 True\n",
      "115 294832 0.882496902364 294832 True\n",
      "116 314294 0.333333333259 314294 True\n",
      "117 192440 0.99999999975 192440 True\n",
      "118 403385 0.772184789568 403385 True\n",
      "119 87199 0.222222222173 87199 True\n",
      "120 502090 0.555555555494 502090 True\n",
      "121 368117 0.666666666519 368117 True\n",
      "122 358342 0.999999999778 358342 True\n",
      "123 562121 0.777777777605 562121 True\n",
      "124 83915 0.999999999889 83915 True\n",
      "125 561100 0.777777777605 561100 True\n",
      "126 292301 0.79999999984 292301 True\n",
      "127 340175 0.69999999993 340175 True\n",
      "128 74711 0.99999999975 74711 True\n",
      "129 127451 0.545454545355 127451 True\n",
      "130 553442 0.4999999999 553442 True\n",
      "131 182245 0.888888888691 182245 True\n",
      "132 491497 0.441248451182 491497 True\n",
      "133 560623 0.69999999986 560623 True\n",
      "134 579056 0.441248451182 579056 True\n",
      "135 334321 0.904837417855 334321 True\n",
      "136 329717 0.777777777605 329717 True\n",
      "0.661872676773 \n",
      "\n",
      "\n",
      "384213 \n",
      "\n",
      "\n",
      "Bleu_1: 0.685\n",
      "Bleu_2: 0.495\n",
      "Bleu_3: 0.361\n",
      "Bleu_4: 0.267\n",
      "\n",
      "{'image_id': 391895, 'Bleu_4': 7.2597952902854695e-09, 'Bleu_3': 2.689047743072969e-06, 'Bleu_2': 0.3944053188316762, 'Bleu_1': 0.6999999999300001}\n"
     ]
    }
   ],
   "source": [
    "tmp_eval = []\n",
    "\n",
    "for i in range(137) :\n",
    "    tmp_caps = {}\n",
    "    tmp_caps['image_id'] = preds[i]['image_id']\n",
    "    tmp_caps['caption'] = preds[i]['caption']\n",
    "    tmp_eval.append(tmp_caps)\n",
    "\n",
    "json.dump(tmp_eval, open('tmptmp.json','w'))\n",
    "#resFile = '../vis/095_test_model66/095_test_model66.json'\n",
    "resFile = 'tmptmp.json'\n",
    "cocoRes = coco.loadRes(resFile)\n",
    "cocoEval = COCOEvalCap(coco, cocoRes)\n",
    "cocoEval.params['image_id'] = cocoRes.getImgIds()\n",
    "cocoEval.evaluate()\n",
    "imgEvals = cocoEval.evalImgs\n",
    "mapping = {}\n",
    "for i in range(len(imgEvals)) :\n",
    "    imgID = imgEvals[i]['image_id']\n",
    "    mapping[imgID] = i    \n",
    "print '\\n', imgEvals[mapping[391895]]"
   ]
  },
  {
   "cell_type": "code",
   "execution_count": 5,
   "metadata": {
    "collapsed": false
   },
   "outputs": [
    {
     "name": "stdout",
     "output_type": "stream",
     "text": [
      "54\n"
     ]
    }
   ],
   "source": [
    "print mapping[391895]"
   ]
  },
  {
   "cell_type": "code",
   "execution_count": 4,
   "metadata": {
    "collapsed": false
   },
   "outputs": [
    {
     "name": "stdout",
     "output_type": "stream",
     "text": [
      "Loading and preparing results...     \n",
      "DONE (t=0.09s)\n",
      "creating index...\n",
      "index created!\n",
      "tokenization...\n",
      "setting up scorers...\n",
      "computing Bleu score...\n",
      "[391895]\n",
      "[391895]\n",
      "{'reflen': 9, 'guess': [10, 9, 8, 7], 'testlen': 10, 'correct': [7, 2, 0, 0]}\n",
      "ratio: 1.11111111099\n",
      "Bleu_1: 0.700\n",
      "Bleu_2: 0.394\n",
      "Bleu_3: 0.000\n",
      "Bleu_4: 0.000\n",
      "computing METEOR score...\n",
      "METEOR: 0.203\n",
      "computing Rouge score...\n",
      "ROUGE_L: 0.386\n",
      "computing CIDEr score...\n",
      "CIDEr: 0.000\n",
      "{'CIDEr': 0.0, 'Bleu_4': 7.2597952902854695e-09, 'Bleu_3': 2.689047743072969e-06, 'Bleu_2': 0.3944053188316762, 'Bleu_1': 0.6999999999300001, 'ROUGE_L': 0.38607594936708861, 'image_id': 391895, 'METEOR': 0.2025647850409862}\n"
     ]
    }
   ],
   "source": [
    "tmp_eval = []\n",
    "\n",
    "for i in range(1) :\n",
    "    tmp_caps = {}\n",
    "    tmp_caps['image_id'] = preds[i]['image_id']\n",
    "    tmp_caps['caption'] = preds[i]['caption']\n",
    "    tmp_eval.append(tmp_caps)\n",
    "\n",
    "json.dump(tmp_eval, open('tmptmp.json','w'))\n",
    "#resFile = '../vis/095_test_model66/095_test_model66.json'\n",
    "resFile = 'tmptmp.json'\n",
    "cocoRes = coco.loadRes(resFile)\n",
    "cocoEval = COCOEvalCap(coco, cocoRes)\n",
    "cocoEval.params['image_id'] = cocoRes.getImgIds()\n",
    "cocoEval.evaluate()\n",
    "imgEvals = cocoEval.evalImgs\n",
    "mapping = {}\n",
    "for i in range(len(imgEvals)) :\n",
    "    imgID = imgEvals[i]['image_id']\n",
    "    mapping[imgID] = i    \n",
    "print imgEvals[mapping[391895]]"
   ]
  }
 ],
 "metadata": {
  "kernelspec": {
   "display_name": "Python 2",
   "language": "python",
   "name": "python2"
  },
  "language_info": {
   "codemirror_mode": {
    "name": "ipython",
    "version": 2
   },
   "file_extension": ".py",
   "mimetype": "text/x-python",
   "name": "python",
   "nbconvert_exporter": "python",
   "pygments_lexer": "ipython2",
   "version": "2.7.6"
  }
 },
 "nbformat": 4,
 "nbformat_minor": 0
}
